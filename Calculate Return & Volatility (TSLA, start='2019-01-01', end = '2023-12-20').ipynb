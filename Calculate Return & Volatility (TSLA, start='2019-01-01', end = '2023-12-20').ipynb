{
 "cells": [
  {
   "cell_type": "code",
   "execution_count": 1,
   "id": "d082f6d8",
   "metadata": {},
   "outputs": [
    {
     "name": "stdout",
     "output_type": "stream",
     "text": [
      "Requirement already satisfied: yfinance in /Users/arm2/anaconda3/lib/python3.11/site-packages (0.2.31)\n",
      "Requirement already satisfied: pandas>=1.3.0 in /Users/arm2/anaconda3/lib/python3.11/site-packages (from yfinance) (2.1.4)\n",
      "Requirement already satisfied: numpy>=1.16.5 in /Users/arm2/anaconda3/lib/python3.11/site-packages (from yfinance) (1.24.3)\n",
      "Requirement already satisfied: requests>=2.31 in /Users/arm2/anaconda3/lib/python3.11/site-packages (from yfinance) (2.31.0)\n",
      "Requirement already satisfied: multitasking>=0.0.7 in /Users/arm2/anaconda3/lib/python3.11/site-packages (from yfinance) (0.0.11)\n",
      "Requirement already satisfied: lxml>=4.9.1 in /Users/arm2/anaconda3/lib/python3.11/site-packages (from yfinance) (4.9.3)\n",
      "Requirement already satisfied: appdirs>=1.4.4 in /Users/arm2/anaconda3/lib/python3.11/site-packages (from yfinance) (1.4.4)\n",
      "Requirement already satisfied: pytz>=2022.5 in /Users/arm2/anaconda3/lib/python3.11/site-packages (from yfinance) (2023.3.post1)\n",
      "Requirement already satisfied: frozendict>=2.3.4 in /Users/arm2/anaconda3/lib/python3.11/site-packages (from yfinance) (2.3.8)\n",
      "Requirement already satisfied: peewee>=3.16.2 in /Users/arm2/anaconda3/lib/python3.11/site-packages (from yfinance) (3.17.0)\n",
      "Requirement already satisfied: beautifulsoup4>=4.11.1 in /Users/arm2/anaconda3/lib/python3.11/site-packages (from yfinance) (4.12.2)\n",
      "Requirement already satisfied: html5lib>=1.1 in /Users/arm2/anaconda3/lib/python3.11/site-packages (from yfinance) (1.1)\n",
      "Requirement already satisfied: soupsieve>1.2 in /Users/arm2/anaconda3/lib/python3.11/site-packages (from beautifulsoup4>=4.11.1->yfinance) (2.5)\n",
      "Requirement already satisfied: six>=1.9 in /Users/arm2/anaconda3/lib/python3.11/site-packages (from html5lib>=1.1->yfinance) (1.16.0)\n",
      "Requirement already satisfied: webencodings in /Users/arm2/anaconda3/lib/python3.11/site-packages (from html5lib>=1.1->yfinance) (0.5.1)\n",
      "Requirement already satisfied: python-dateutil>=2.8.2 in /Users/arm2/anaconda3/lib/python3.11/site-packages (from pandas>=1.3.0->yfinance) (2.8.2)\n",
      "Requirement already satisfied: tzdata>=2022.1 in /Users/arm2/anaconda3/lib/python3.11/site-packages (from pandas>=1.3.0->yfinance) (2023.3)\n",
      "Requirement already satisfied: charset-normalizer<4,>=2 in /Users/arm2/anaconda3/lib/python3.11/site-packages (from requests>=2.31->yfinance) (2.0.4)\n",
      "Requirement already satisfied: idna<4,>=2.5 in /Users/arm2/anaconda3/lib/python3.11/site-packages (from requests>=2.31->yfinance) (3.4)\n",
      "Requirement already satisfied: urllib3<3,>=1.21.1 in /Users/arm2/anaconda3/lib/python3.11/site-packages (from requests>=2.31->yfinance) (1.26.16)\n",
      "Requirement already satisfied: certifi>=2017.4.17 in /Users/arm2/anaconda3/lib/python3.11/site-packages (from requests>=2.31->yfinance) (2023.7.22)\n",
      "\n",
      "\u001b[1m[\u001b[0m\u001b[34;49mnotice\u001b[0m\u001b[1;39;49m]\u001b[0m\u001b[39;49m A new release of pip is available: \u001b[0m\u001b[31;49m23.3.1\u001b[0m\u001b[39;49m -> \u001b[0m\u001b[32;49m23.3.2\u001b[0m\n",
      "\u001b[1m[\u001b[0m\u001b[34;49mnotice\u001b[0m\u001b[1;39;49m]\u001b[0m\u001b[39;49m To update, run: \u001b[0m\u001b[32;49mpip install --upgrade pip\u001b[0m\n"
     ]
    }
   ],
   "source": [
    "!pip install yfinance"
   ]
  },
  {
   "cell_type": "code",
   "execution_count": 2,
   "id": "148a266e",
   "metadata": {},
   "outputs": [],
   "source": [
    "import pandas as pd\n",
    "import matplotlib.pyplot as plt\n",
    "import yfinance as yf"
   ]
  },
  {
   "cell_type": "code",
   "execution_count": 3,
   "id": "d2ee3694",
   "metadata": {},
   "outputs": [],
   "source": [
    "start = '2019-01-01'\n",
    "end = '2023-12-20'"
   ]
  },
  {
   "cell_type": "code",
   "execution_count": 4,
   "id": "91fc02bf",
   "metadata": {},
   "outputs": [
    {
     "name": "stdout",
     "output_type": "stream",
     "text": [
      "[*********************100%%**********************]  1 of 1 completed\n"
     ]
    }
   ],
   "source": [
    "tsla = yf.download('TSLA', start=start, end=end)"
   ]
  },
  {
   "cell_type": "code",
   "execution_count": 5,
   "id": "4d52b55a",
   "metadata": {},
   "outputs": [
    {
     "data": {
      "text/html": [
       "<div>\n",
       "<style scoped>\n",
       "    .dataframe tbody tr th:only-of-type {\n",
       "        vertical-align: middle;\n",
       "    }\n",
       "\n",
       "    .dataframe tbody tr th {\n",
       "        vertical-align: top;\n",
       "    }\n",
       "\n",
       "    .dataframe thead th {\n",
       "        text-align: right;\n",
       "    }\n",
       "</style>\n",
       "<table border=\"1\" class=\"dataframe\">\n",
       "  <thead>\n",
       "    <tr style=\"text-align: right;\">\n",
       "      <th></th>\n",
       "      <th>Open</th>\n",
       "      <th>High</th>\n",
       "      <th>Low</th>\n",
       "      <th>Close</th>\n",
       "      <th>Adj Close</th>\n",
       "      <th>Volume</th>\n",
       "    </tr>\n",
       "    <tr>\n",
       "      <th>Date</th>\n",
       "      <th></th>\n",
       "      <th></th>\n",
       "      <th></th>\n",
       "      <th></th>\n",
       "      <th></th>\n",
       "      <th></th>\n",
       "    </tr>\n",
       "  </thead>\n",
       "  <tbody>\n",
       "    <tr>\n",
       "      <th>2019-01-02</th>\n",
       "      <td>20.406668</td>\n",
       "      <td>21.008667</td>\n",
       "      <td>19.920000</td>\n",
       "      <td>20.674667</td>\n",
       "      <td>20.674667</td>\n",
       "      <td>174879000</td>\n",
       "    </tr>\n",
       "    <tr>\n",
       "      <th>2019-01-03</th>\n",
       "      <td>20.466667</td>\n",
       "      <td>20.626667</td>\n",
       "      <td>19.825333</td>\n",
       "      <td>20.024000</td>\n",
       "      <td>20.024000</td>\n",
       "      <td>104478000</td>\n",
       "    </tr>\n",
       "    <tr>\n",
       "      <th>2019-01-04</th>\n",
       "      <td>20.400000</td>\n",
       "      <td>21.200001</td>\n",
       "      <td>20.181999</td>\n",
       "      <td>21.179333</td>\n",
       "      <td>21.179333</td>\n",
       "      <td>110911500</td>\n",
       "    </tr>\n",
       "    <tr>\n",
       "      <th>2019-01-07</th>\n",
       "      <td>21.448000</td>\n",
       "      <td>22.449333</td>\n",
       "      <td>21.183332</td>\n",
       "      <td>22.330667</td>\n",
       "      <td>22.330667</td>\n",
       "      <td>113268000</td>\n",
       "    </tr>\n",
       "    <tr>\n",
       "      <th>2019-01-08</th>\n",
       "      <td>22.797333</td>\n",
       "      <td>22.934000</td>\n",
       "      <td>21.801332</td>\n",
       "      <td>22.356667</td>\n",
       "      <td>22.356667</td>\n",
       "      <td>105127500</td>\n",
       "    </tr>\n",
       "    <tr>\n",
       "      <th>...</th>\n",
       "      <td>...</td>\n",
       "      <td>...</td>\n",
       "      <td>...</td>\n",
       "      <td>...</td>\n",
       "      <td>...</td>\n",
       "      <td>...</td>\n",
       "    </tr>\n",
       "    <tr>\n",
       "      <th>2023-12-13</th>\n",
       "      <td>234.190002</td>\n",
       "      <td>240.300003</td>\n",
       "      <td>228.199997</td>\n",
       "      <td>239.289993</td>\n",
       "      <td>239.289993</td>\n",
       "      <td>146286300</td>\n",
       "    </tr>\n",
       "    <tr>\n",
       "      <th>2023-12-14</th>\n",
       "      <td>241.220001</td>\n",
       "      <td>253.880005</td>\n",
       "      <td>240.789993</td>\n",
       "      <td>251.050003</td>\n",
       "      <td>251.050003</td>\n",
       "      <td>160829200</td>\n",
       "    </tr>\n",
       "    <tr>\n",
       "      <th>2023-12-15</th>\n",
       "      <td>251.210007</td>\n",
       "      <td>254.130005</td>\n",
       "      <td>248.300003</td>\n",
       "      <td>253.500000</td>\n",
       "      <td>253.500000</td>\n",
       "      <td>135720800</td>\n",
       "    </tr>\n",
       "    <tr>\n",
       "      <th>2023-12-18</th>\n",
       "      <td>253.779999</td>\n",
       "      <td>258.739990</td>\n",
       "      <td>251.360001</td>\n",
       "      <td>252.080002</td>\n",
       "      <td>252.080002</td>\n",
       "      <td>116416500</td>\n",
       "    </tr>\n",
       "    <tr>\n",
       "      <th>2023-12-19</th>\n",
       "      <td>253.479996</td>\n",
       "      <td>258.339996</td>\n",
       "      <td>253.009995</td>\n",
       "      <td>257.220001</td>\n",
       "      <td>257.220001</td>\n",
       "      <td>106737400</td>\n",
       "    </tr>\n",
       "  </tbody>\n",
       "</table>\n",
       "<p>1251 rows × 6 columns</p>\n",
       "</div>"
      ],
      "text/plain": [
       "                  Open        High         Low       Close   Adj Close  \\\n",
       "Date                                                                     \n",
       "2019-01-02   20.406668   21.008667   19.920000   20.674667   20.674667   \n",
       "2019-01-03   20.466667   20.626667   19.825333   20.024000   20.024000   \n",
       "2019-01-04   20.400000   21.200001   20.181999   21.179333   21.179333   \n",
       "2019-01-07   21.448000   22.449333   21.183332   22.330667   22.330667   \n",
       "2019-01-08   22.797333   22.934000   21.801332   22.356667   22.356667   \n",
       "...                ...         ...         ...         ...         ...   \n",
       "2023-12-13  234.190002  240.300003  228.199997  239.289993  239.289993   \n",
       "2023-12-14  241.220001  253.880005  240.789993  251.050003  251.050003   \n",
       "2023-12-15  251.210007  254.130005  248.300003  253.500000  253.500000   \n",
       "2023-12-18  253.779999  258.739990  251.360001  252.080002  252.080002   \n",
       "2023-12-19  253.479996  258.339996  253.009995  257.220001  257.220001   \n",
       "\n",
       "               Volume  \n",
       "Date                   \n",
       "2019-01-02  174879000  \n",
       "2019-01-03  104478000  \n",
       "2019-01-04  110911500  \n",
       "2019-01-07  113268000  \n",
       "2019-01-08  105127500  \n",
       "...               ...  \n",
       "2023-12-13  146286300  \n",
       "2023-12-14  160829200  \n",
       "2023-12-15  135720800  \n",
       "2023-12-18  116416500  \n",
       "2023-12-19  106737400  \n",
       "\n",
       "[1251 rows x 6 columns]"
      ]
     },
     "execution_count": 5,
     "metadata": {},
     "output_type": "execute_result"
    }
   ],
   "source": [
    "tsla"
   ]
  },
  {
   "cell_type": "code",
   "execution_count": 6,
   "id": "bcfb59e0",
   "metadata": {},
   "outputs": [],
   "source": [
    "price = tsla['Adj Close']"
   ]
  },
  {
   "cell_type": "code",
   "execution_count": 7,
   "id": "c7436f69",
   "metadata": {},
   "outputs": [
    {
     "data": {
      "text/plain": [
       "Date\n",
       "2019-01-02         NaN\n",
       "2019-01-03   -0.031472\n",
       "2019-01-04    0.057697\n",
       "2019-01-07    0.054361\n",
       "2019-01-08    0.001164\n",
       "                ...   \n",
       "2023-12-13    0.009620\n",
       "2023-12-14    0.049145\n",
       "2023-12-15    0.009759\n",
       "2023-12-18   -0.005602\n",
       "2023-12-19    0.020390\n",
       "Name: Adj Close, Length: 1251, dtype: float64"
      ]
     },
     "execution_count": 7,
     "metadata": {},
     "output_type": "execute_result"
    }
   ],
   "source": [
    "#Calculate Return Solution 1\n",
    "\n",
    "ret_manual = price/price.shift(1) - 1\n",
    "ret_manual"
   ]
  },
  {
   "cell_type": "code",
   "execution_count": 9,
   "id": "ea8d881d",
   "metadata": {},
   "outputs": [
    {
     "data": {
      "text/plain": [
       "Date\n",
       "2019-01-02         NaN\n",
       "2019-01-03   -0.031472\n",
       "2019-01-04    0.057697\n",
       "2019-01-07    0.054361\n",
       "2019-01-08    0.001164\n",
       "                ...   \n",
       "2023-12-13    0.009620\n",
       "2023-12-14    0.049145\n",
       "2023-12-15    0.009759\n",
       "2023-12-18   -0.005602\n",
       "2023-12-19    0.020390\n",
       "Name: Adj Close, Length: 1251, dtype: float64"
      ]
     },
     "execution_count": 9,
     "metadata": {},
     "output_type": "execute_result"
    }
   ],
   "source": [
    "#Calculate Return Solution 2\n",
    "\n",
    "ret = price.pct_change()\n",
    "ret"
   ]
  },
  {
   "cell_type": "code",
   "execution_count": 12,
   "id": "43ce8f9c",
   "metadata": {},
   "outputs": [
    {
     "data": {
      "text/plain": [
       "Date\n",
       "2019-01-02         NaN\n",
       "2019-01-03         NaN\n",
       "2019-01-04         NaN\n",
       "2019-01-07         NaN\n",
       "2019-01-08         NaN\n",
       "                ...   \n",
       "2023-12-13   -0.102101\n",
       "2023-12-14   -0.043947\n",
       "2023-12-15   -0.008604\n",
       "2023-12-18    0.029402\n",
       "2023-12-19    0.041419\n",
       "Name: Adj Close, Length: 1251, dtype: float64"
      ]
     },
     "execution_count": 12,
     "metadata": {},
     "output_type": "execute_result"
    }
   ],
   "source": [
    "#Backward Return\n",
    "\n",
    "#3 month = 60 days\n",
    "\n",
    "m3b_ret = price.pct_change(60)\n",
    "m3b_ret"
   ]
  },
  {
   "cell_type": "code",
   "execution_count": 13,
   "id": "f5a18d9e",
   "metadata": {},
   "outputs": [
    {
     "data": {
      "text/plain": [
       "Date\n",
       "2019-01-02         NaN\n",
       "2019-01-03         NaN\n",
       "2019-01-04         NaN\n",
       "2019-01-07         NaN\n",
       "2019-01-08         NaN\n",
       "                ...   \n",
       "2023-12-13   -0.068149\n",
       "2023-12-14   -0.018953\n",
       "2023-12-15   -0.027021\n",
       "2023-12-18   -0.081509\n",
       "2023-12-19   -0.008633\n",
       "Name: Adj Close, Length: 1251, dtype: float64"
      ]
     },
     "execution_count": 13,
     "metadata": {},
     "output_type": "execute_result"
    }
   ],
   "source": [
    "#Half Year = 126 days\n",
    "\n",
    "m6b_ret = price.pct_change(126)\n",
    "m6b_ret"
   ]
  },
  {
   "cell_type": "code",
   "execution_count": 14,
   "id": "55e36c47",
   "metadata": {},
   "outputs": [
    {
     "data": {
      "text/plain": [
       "Date\n",
       "2019-01-02         NaN\n",
       "2019-01-03         NaN\n",
       "2019-01-04         NaN\n",
       "2019-01-07         NaN\n",
       "2019-01-08         NaN\n",
       "                ...   \n",
       "2023-12-13    0.425873\n",
       "2023-12-14    0.559801\n",
       "2023-12-15    0.616709\n",
       "2023-12-18    0.598782\n",
       "2023-12-19    0.712175\n",
       "Name: Adj Close, Length: 1251, dtype: float64"
      ]
     },
     "execution_count": 14,
     "metadata": {},
     "output_type": "execute_result"
    }
   ],
   "source": [
    "#Full Year = 252 days\n",
    "\n",
    "y_ret = price.pct_change(252)\n",
    "y_ret"
   ]
  },
  {
   "cell_type": "code",
   "execution_count": 15,
   "id": "e1f31076",
   "metadata": {},
   "outputs": [
    {
     "data": {
      "text/plain": [
       "Date\n",
       "2019-01-02    0.108126\n",
       "2019-01-03    0.038661\n",
       "2019-01-04    0.111270\n",
       "2019-01-07    0.147870\n",
       "2019-01-08    0.252334\n",
       "                ...   \n",
       "2023-12-13         NaN\n",
       "2023-12-14         NaN\n",
       "2023-12-15         NaN\n",
       "2023-12-18         NaN\n",
       "2023-12-19         NaN\n",
       "Name: Adj Close, Length: 1251, dtype: float64"
      ]
     },
     "execution_count": 15,
     "metadata": {},
     "output_type": "execute_result"
    }
   ],
   "source": [
    "#Forward Return\n",
    "\n",
    "three_month_ret = price.pct_change(-60)\n",
    "three_month_ret"
   ]
  },
  {
   "cell_type": "code",
   "execution_count": 16,
   "id": "5f61fb10",
   "metadata": {},
   "outputs": [
    {
     "data": {
      "text/plain": [
       "Date\n",
       "2019-01-02    0.320221\n",
       "2019-01-03    0.288546\n",
       "2019-01-04    0.379222\n",
       "2019-01-07    0.455968\n",
       "2019-01-08    0.403608\n",
       "                ...   \n",
       "2023-12-13         NaN\n",
       "2023-12-14         NaN\n",
       "2023-12-15         NaN\n",
       "2023-12-18         NaN\n",
       "2023-12-19         NaN\n",
       "Name: Adj Close, Length: 1251, dtype: float64"
      ]
     },
     "execution_count": 16,
     "metadata": {},
     "output_type": "execute_result"
    }
   ],
   "source": [
    "six_month_ret = price.pct_change(-126)\n",
    "six_month_ret"
   ]
  },
  {
   "cell_type": "code",
   "execution_count": 18,
   "id": "d94b0fdc",
   "metadata": {},
   "outputs": [
    {
     "data": {
      "text/plain": [
       "Date\n",
       "2019-01-02   -0.279226\n",
       "2019-01-03   -0.322002\n",
       "2019-01-04   -0.296430\n",
       "2019-01-07   -0.285891\n",
       "2019-01-08   -0.318588\n",
       "                ...   \n",
       "2023-12-13         NaN\n",
       "2023-12-14         NaN\n",
       "2023-12-15         NaN\n",
       "2023-12-18         NaN\n",
       "2023-12-19         NaN\n",
       "Name: Adj Close, Length: 1251, dtype: float64"
      ]
     },
     "execution_count": 18,
     "metadata": {},
     "output_type": "execute_result"
    }
   ],
   "source": [
    "one_year_ret = price.pct_change(-252)\n",
    "one_year_ret"
   ]
  },
  {
   "cell_type": "code",
   "execution_count": 19,
   "id": "71bd6a8d",
   "metadata": {},
   "outputs": [
    {
     "data": {
      "text/plain": [
       "Date\n",
       "2019-01-07     22.330667\n",
       "2019-01-14     22.293333\n",
       "2019-01-21           NaN\n",
       "2019-01-28     19.758667\n",
       "2019-02-04     20.859333\n",
       "                 ...    \n",
       "2023-11-20    235.600006\n",
       "2023-11-27    236.080002\n",
       "2023-12-04    235.580002\n",
       "2023-12-11    239.740005\n",
       "2023-12-18    252.080002\n",
       "Freq: W-MON, Name: Adj Close, Length: 259, dtype: float64"
      ]
     },
     "execution_count": 19,
     "metadata": {},
     "output_type": "execute_result"
    }
   ],
   "source": [
    "#Weekly TSLA price (Start from Monday)\n",
    "\n",
    "weekly_price = price.asfreq('W-Mon')\n",
    "weekly_price"
   ]
  },
  {
   "cell_type": "code",
   "execution_count": 21,
   "id": "02ee6e67",
   "metadata": {},
   "outputs": [
    {
     "name": "stderr",
     "output_type": "stream",
     "text": [
      "/var/folders/r2/93nn3d1n2713cjf2mjhq935m0000gr/T/ipykernel_2707/3963845492.py:1: FutureWarning: The default fill_method='pad' in Series.pct_change is deprecated and will be removed in a future version. Either fill in any non-leading NA values prior to calling pct_change or specify 'fill_method=None' to not fill NA values.\n",
      "  weekly_ret = weekly_price.pct_change()\n"
     ]
    },
    {
     "data": {
      "text/plain": [
       "Date\n",
       "2019-01-07         NaN\n",
       "2019-01-14   -0.001672\n",
       "2019-01-21    0.000000\n",
       "2019-01-28   -0.113696\n",
       "2019-02-04    0.055705\n",
       "                ...   \n",
       "2023-11-20    0.053149\n",
       "2023-11-27    0.002037\n",
       "2023-12-04   -0.002118\n",
       "2023-12-11    0.017659\n",
       "2023-12-18    0.051472\n",
       "Freq: W-MON, Name: Adj Close, Length: 259, dtype: float64"
      ]
     },
     "execution_count": 21,
     "metadata": {},
     "output_type": "execute_result"
    }
   ],
   "source": [
    "weekly_ret = weekly_price.pct_change()\n",
    "weekly_ret"
   ]
  },
  {
   "cell_type": "code",
   "execution_count": 24,
   "id": "f92b0141",
   "metadata": {},
   "outputs": [
    {
     "data": {
      "text/plain": [
       "Date\n",
       "2019-01-04     21.179333\n",
       "2019-01-11     23.150667\n",
       "2019-01-18     20.150667\n",
       "2019-01-25     19.802668\n",
       "2019-02-01     20.813999\n",
       "                 ...    \n",
       "2023-11-17    234.300003\n",
       "2023-11-24    235.449997\n",
       "2023-12-01    238.830002\n",
       "2023-12-08    243.839996\n",
       "2023-12-15    253.500000\n",
       "Freq: W-FRI, Name: Adj Close, Length: 259, dtype: float64"
      ]
     },
     "execution_count": 24,
     "metadata": {},
     "output_type": "execute_result"
    }
   ],
   "source": [
    "#Weekly TSLA price (Start from Friday)\n",
    "\n",
    "weekly_price = price.asfreq('W-Fri')\n",
    "weekly_price"
   ]
  },
  {
   "cell_type": "code",
   "execution_count": 25,
   "id": "5a2ff1eb",
   "metadata": {},
   "outputs": [
    {
     "data": {
      "text/plain": [
       "Date\n",
       "2019-01-31     20.468000\n",
       "2019-02-28     21.325333\n",
       "2019-03-31     18.657333\n",
       "2019-04-30     15.912667\n",
       "2019-05-31     12.344000\n",
       "2019-06-30     14.897333\n",
       "2019-07-31     16.107332\n",
       "2019-08-31     15.040667\n",
       "2019-09-30     16.058001\n",
       "2019-10-31     20.994667\n",
       "2019-11-30     21.996000\n",
       "2019-12-31     27.888666\n",
       "2020-01-31     43.371334\n",
       "2020-02-29     44.532665\n",
       "2020-03-31     34.933334\n",
       "2020-04-30     52.125332\n",
       "2020-05-31     55.666668\n",
       "2020-06-30     71.987335\n",
       "2020-07-31     95.384003\n",
       "2020-08-31    166.106674\n",
       "2020-09-30    143.003326\n",
       "2020-10-31    129.346664\n",
       "2020-11-30    189.199997\n",
       "2020-12-31    235.223328\n",
       "2021-01-31    264.510010\n",
       "2021-02-28    225.166672\n",
       "2021-03-31    222.643326\n",
       "2021-04-30    236.479996\n",
       "2021-05-31    208.406662\n",
       "2021-06-30    226.566666\n",
       "2021-07-31    229.066666\n",
       "2021-08-31    245.240005\n",
       "2021-09-30    258.493347\n",
       "2021-10-31    371.333344\n",
       "2021-11-30    381.586670\n",
       "2021-12-31    352.260010\n",
       "2022-01-31    312.239990\n",
       "2022-02-28    290.143341\n",
       "2022-03-31    359.200012\n",
       "2022-04-30    290.253326\n",
       "2022-05-31    252.753326\n",
       "2022-06-30    224.473328\n",
       "2022-07-31    297.149994\n",
       "2022-08-31    275.609985\n",
       "2022-09-30    265.250000\n",
       "2022-10-31    227.539993\n",
       "2022-11-30    194.699997\n",
       "2022-12-31    123.180000\n",
       "2023-01-31    173.220001\n",
       "2023-02-28    205.710007\n",
       "2023-03-31    207.460007\n",
       "2023-04-30    164.309998\n",
       "2023-05-31    203.929993\n",
       "2023-06-30    261.769989\n",
       "2023-07-31    267.429993\n",
       "2023-08-31    258.079987\n",
       "2023-09-30    250.220001\n",
       "2023-10-31    200.839996\n",
       "2023-11-30    240.080002\n",
       "2023-12-31    257.220001\n",
       "Freq: M, Name: Adj Close, dtype: float64"
      ]
     },
     "execution_count": 25,
     "metadata": {},
     "output_type": "execute_result"
    }
   ],
   "source": [
    "#Monthly TSLA price\n",
    "\n",
    "monthly_price = price.resample('M').last()\n",
    "monthly_price"
   ]
  },
  {
   "cell_type": "code",
   "execution_count": 26,
   "id": "08584830",
   "metadata": {},
   "outputs": [
    {
     "data": {
      "text/plain": [
       "Date\n",
       "2019-01-31         NaN\n",
       "2019-02-28    0.041886\n",
       "2019-03-31   -0.125109\n",
       "2019-04-30   -0.147109\n",
       "2019-05-31   -0.224266\n",
       "2019-06-30    0.206848\n",
       "2019-07-31    0.081223\n",
       "2019-08-31   -0.066222\n",
       "2019-09-30    0.067639\n",
       "2019-10-31    0.307427\n",
       "2019-11-30    0.047695\n",
       "2019-12-31    0.267897\n",
       "2020-01-31    0.555160\n",
       "2020-02-29    0.026776\n",
       "2020-03-31   -0.215557\n",
       "2020-04-30    0.492137\n",
       "2020-05-31    0.067939\n",
       "2020-06-30    0.293186\n",
       "2020-07-31    0.325011\n",
       "2020-08-31    0.741452\n",
       "2020-09-30   -0.139087\n",
       "2020-10-31   -0.095499\n",
       "2020-11-30    0.462736\n",
       "2020-12-31    0.243252\n",
       "2021-01-31    0.124506\n",
       "2021-02-28   -0.148740\n",
       "2021-03-31   -0.011207\n",
       "2021-04-30    0.062147\n",
       "2021-05-31   -0.118713\n",
       "2021-06-30    0.087137\n",
       "2021-07-31    0.011034\n",
       "2021-08-31    0.070605\n",
       "2021-09-30    0.054042\n",
       "2021-10-31    0.436530\n",
       "2021-11-30    0.027612\n",
       "2021-12-31   -0.076855\n",
       "2022-01-31   -0.113609\n",
       "2022-02-28   -0.070768\n",
       "2022-03-31    0.238009\n",
       "2022-04-30   -0.191945\n",
       "2022-05-31   -0.129197\n",
       "2022-06-30   -0.111888\n",
       "2022-07-31    0.323765\n",
       "2022-08-31   -0.072489\n",
       "2022-09-30   -0.037589\n",
       "2022-10-31   -0.142168\n",
       "2022-11-30   -0.144326\n",
       "2022-12-31   -0.367334\n",
       "2023-01-31    0.406235\n",
       "2023-02-28    0.187565\n",
       "2023-03-31    0.008507\n",
       "2023-04-30   -0.207992\n",
       "2023-05-31    0.241130\n",
       "2023-06-30    0.283627\n",
       "2023-07-31    0.021622\n",
       "2023-08-31   -0.034962\n",
       "2023-09-30   -0.030456\n",
       "2023-10-31   -0.197346\n",
       "2023-11-30    0.195379\n",
       "2023-12-31    0.071393\n",
       "Freq: M, Name: Adj Close, dtype: float64"
      ]
     },
     "execution_count": 26,
     "metadata": {},
     "output_type": "execute_result"
    }
   ],
   "source": [
    "monthly_ret = monthly_price.pct_change()\n",
    "monthly_ret"
   ]
  },
  {
   "cell_type": "code",
   "execution_count": 28,
   "id": "e864d148",
   "metadata": {},
   "outputs": [],
   "source": [
    "import numpy as np"
   ]
  },
  {
   "cell_type": "code",
   "execution_count": 29,
   "id": "f1fa1c84",
   "metadata": {},
   "outputs": [
    {
     "data": {
      "text/plain": [
       "0.6480827721040775"
      ]
     },
     "execution_count": 29,
     "metadata": {},
     "output_type": "execute_result"
    }
   ],
   "source": [
    "vol_d = ret.std()*np.sqrt(252)\n",
    "vol_d"
   ]
  },
  {
   "cell_type": "code",
   "execution_count": 30,
   "id": "70d468dc",
   "metadata": {},
   "outputs": [
    {
     "data": {
      "text/plain": [
       "0.68532223775137"
      ]
     },
     "execution_count": 30,
     "metadata": {},
     "output_type": "execute_result"
    }
   ],
   "source": [
    "vol_w = weekly_ret.std()*np.sqrt(52) \n",
    "vol_w"
   ]
  },
  {
   "cell_type": "code",
   "execution_count": 31,
   "id": "60fe4ce7",
   "metadata": {},
   "outputs": [
    {
     "data": {
      "text/plain": [
       "Date\n",
       "2019-01-02         NaN\n",
       "2019-01-03         NaN\n",
       "2019-01-04         NaN\n",
       "2019-01-07         NaN\n",
       "2019-01-08         NaN\n",
       "                ...   \n",
       "2023-12-13    0.447065\n",
       "2023-12-14    0.457971\n",
       "2023-12-15    0.455208\n",
       "2023-12-18    0.446679\n",
       "2023-12-19    0.448200\n",
       "Name: Adj Close, Length: 1251, dtype: float64"
      ]
     },
     "execution_count": 31,
     "metadata": {},
     "output_type": "execute_result"
    }
   ],
   "source": [
    "#3M Volatility (Annualized from Daily)\n",
    "\n",
    "vol_d_rolling = ret.rolling(window=60).std()*np.sqrt(252)\n",
    "vol_d_rolling"
   ]
  },
  {
   "cell_type": "code",
   "execution_count": 32,
   "id": "cf99b50c",
   "metadata": {},
   "outputs": [
    {
     "data": {
      "text/plain": [
       "<Axes: xlabel='Date'>"
      ]
     },
     "execution_count": 32,
     "metadata": {},
     "output_type": "execute_result"
    },
    {
     "data": {
      "image/png": "[encoded data removed]",
      "text/plain": [
       "<Figure size 640x480 with 1 Axes>"
      ]
     },
     "metadata": {},
     "output_type": "display_data"
    }
   ],
   "source": [
    "vol_d_rolling.plot()"
   ]
  },
  {
   "cell_type": "code",
   "execution_count": 33,
   "id": "d0d729cf",
   "metadata": {},
   "outputs": [
    {
     "data": {
      "text/plain": [
       "Date\n",
       "2019-01-07         NaN\n",
       "2019-01-14         NaN\n",
       "2019-01-21         NaN\n",
       "2019-01-28         NaN\n",
       "2019-02-04         NaN\n",
       "                ...   \n",
       "2023-11-20    0.600187\n",
       "2023-11-27    0.600169\n",
       "2023-12-04    0.504624\n",
       "2023-12-11    0.505390\n",
       "2023-12-18    0.496631\n",
       "Freq: W-MON, Name: Adj Close, Length: 259, dtype: float64"
      ]
     },
     "execution_count": 33,
     "metadata": {},
     "output_type": "execute_result"
    }
   ],
   "source": [
    "#3M Volatility (Annualized from Weekly)\n",
    "\n",
    "vol_w_rolling = weekly_ret.rolling(window=12).std()*np.sqrt(52)\n",
    "vol_w_rolling"
   ]
  },
  {
   "cell_type": "code",
   "execution_count": 34,
   "id": "059cafda",
   "metadata": {},
   "outputs": [
    {
     "data": {
      "text/plain": [
       "<Axes: xlabel='Date'>"
      ]
     },
     "execution_count": 34,
     "metadata": {},
     "output_type": "execute_result"
    },
    {
     "data": {
      "image/png": "[encoded data removed]",
      "text/plain": [
       "<Figure size 640x480 with 1 Axes>"
      ]
     },
     "metadata": {},
     "output_type": "display_data"
    }
   ],
   "source": [
    "vol_w_rolling.plot()"
   ]
  },
  {
   "cell_type": "code",
   "execution_count": 37,
   "id": "ae8e5cbf",
   "metadata": {},
   "outputs": [
    {
     "data": {
      "text/plain": [
       "Date\n",
       "2019-01-31         NaN\n",
       "2019-02-28         NaN\n",
       "2019-03-31         NaN\n",
       "2019-04-30         NaN\n",
       "2019-05-31         NaN\n",
       "2019-06-30         NaN\n",
       "2019-07-31         NaN\n",
       "2019-08-31         NaN\n",
       "2019-09-30         NaN\n",
       "2019-10-31         NaN\n",
       "2019-11-30         NaN\n",
       "2019-12-31         NaN\n",
       "2020-01-31    0.766754\n",
       "2020-02-29    0.767816\n",
       "2020-03-31    0.799264\n",
       "2020-04-30    0.858374\n",
       "2020-05-31    0.772681\n",
       "2020-06-30    0.783956\n",
       "2020-07-31    0.794911\n",
       "2020-08-31    0.921409\n",
       "2020-09-30    0.986463\n",
       "2020-10-31    1.033502\n",
       "2020-11-30    1.051165\n",
       "2020-12-31    1.050532\n",
       "2021-01-31    0.991646\n",
       "2021-02-28    1.038349\n",
       "2021-03-31    0.971539\n",
       "2021-04-30    0.922628\n",
       "2021-05-31    0.961128\n",
       "2021-06-30    0.948456\n",
       "2021-07-31    0.928988\n",
       "2021-08-31    0.613597\n",
       "2021-09-30    0.579607\n",
       "2021-10-31    0.660633\n",
       "2021-11-30    0.535913\n",
       "2021-12-31    0.518233\n",
       "2022-01-31    0.531987\n",
       "2022-02-28    0.509723\n",
       "2022-03-31    0.547368\n",
       "2022-04-30    0.598141\n",
       "2022-05-31    0.601058\n",
       "2022-06-30    0.612732\n",
       "2022-07-31    0.687464\n",
       "2022-08-31    0.694918\n",
       "2022-09-30    0.696937\n",
       "2022-10-31    0.541071\n",
       "2022-11-30    0.548451\n",
       "2022-12-31    0.637137\n",
       "2023-01-31    0.790434\n",
       "2023-02-28    0.815911\n",
       "2023-03-31    0.772966\n",
       "2023-04-30    0.776958\n",
       "2023-05-31    0.809775\n",
       "2023-06-30    0.842387\n",
       "2023-07-31    0.783443\n",
       "2023-08-31    0.779776\n",
       "2023-09-30    0.779255\n",
       "2023-10-31    0.793486\n",
       "2023-11-30    0.792325\n",
       "2023-12-31    0.654430\n",
       "Freq: M, Name: Adj Close, dtype: float64"
      ]
     },
     "execution_count": 37,
     "metadata": {},
     "output_type": "execute_result"
    }
   ],
   "source": [
    "#3M Volatility (Annualized from Monthly)\n",
    "\n",
    "vol_M_rolling =  monthly_ret.rolling(window=12).std()*np.sqrt(12)\n",
    "vol_M_rolling"
   ]
  },
  {
   "cell_type": "code",
   "execution_count": 36,
   "id": "67be630c",
   "metadata": {},
   "outputs": [
    {
     "data": {
      "text/plain": [
       "<Axes: xlabel='Date'>"
      ]
     },
     "execution_count": 36,
     "metadata": {},
     "output_type": "execute_result"
    },
    {
     "data": {
      "image/png": "[encoded data removed]",
      "text/plain": [
       "<Figure size 640x480 with 1 Axes>"
      ]
     },
     "metadata": {},
     "output_type": "display_data"
    }
   ],
   "source": [
    "vol_M_rolling.plot()"
   ]
  },
  {
   "cell_type": "code",
   "execution_count": null,
   "id": "69e78b3e",
   "metadata": {},
   "outputs": [],
   "source": []
  }
 ],
 "metadata": {
  "kernelspec": {
   "display_name": "Python 3 (ipykernel)",
   "language": "python",
   "name": "python3"
  },
  "language_info": {
   "codemirror_mode": {
    "name": "ipython",
    "version": 3
   },
   "file_extension": ".py",
   "mimetype": "text/x-python",
   "name": "python",
   "nbconvert_exporter": "python",
   "pygments_lexer": "ipython3",
   "version": "3.11.4"
  }
 },
 "nbformat": 4,
 "nbformat_minor": 5
}
